{
 "cells": [
  {
   "cell_type": "markdown",
   "id": "dc9d5eff-9be7-412b-a452-cd92b3d2091c",
   "metadata": {},
   "source": [
    "<img src=\"https://dinlerantunes.com/assets/images/lab-logo.png\" height=\"200\">\n",
    "\n",
    "\n",
    "# Welcome to CrossDome on Jupyter!\n",
    "\n",
    "---\n",
    "\n",
    "The complete CrossDome source and documentation are available at https://github.com/AntunesLab/crossdome\n",
    "\n",
    "---\n",
    "\n",
    "***If you use crossdome in published research, please cite:***\n",
    "Fonseca AF, Antunes DA. CrossDome: an interactive R package to predict cross-reactivity risk using immunopeptidomics databases. Front Immunol. 2023;14:1142573. Published 2023 Jun 12. doi:10.3389/fimmu.2023.1142573\n",
    "\n",
    "---\n",
    "\n",
    "**Acknowledgments**\n",
    "The Jupyter Notebook was created by the Antunes lab members: Martiela Freitas and Pamella Borges."
   ]
  },
  {
   "cell_type": "markdown",
   "id": "a7a505bd-e2e5-4236-bfdb-301c09dde568",
   "metadata": {},
   "source": [
    "## Instructions\n",
    "\n",
    "This CrossDome on Jupyter was developed to facilitate the use of the tool for those with little or no knowledge of the R language. Each step is described as follows:\n",
    "\n",
    "1. **Downloading the necessary libraries**: This Jupyter notebook was developed in R, as CrossDome was also developed in R. In this cell, you will download and install all the necessary libraries.\n",
    "\n",
    "2. If you don't have R installed on your computer, please follow the instructions to install it: https://www.r-project.org/.\n",
    "\n",
    "3. After you have installed R, please open R in your terminal and install the IRkernel:\n",
    "\n",
    "<pre> install.packages('IRkernel')\n",
    "    IRkernel::installspec(user = FALSE) </pre>\n",
    "\n",
    "4. Verify you are running your Jupyter notebook with R. In the upper right corner, confirm whether the Select Kernel is R.\n",
    "\n",
    "\n",
    "5. **Loading Data**: Now it's time to inform your data. Select your option and run the cell. Bellow the cell a message will be prompted with a query are to be filled.\n",
    "\n",
    "- *Single entry*: chose this if you have a single peptide and HLA targets.\n",
    "```\n",
    "Please complete the allele are with the format: HLA-A*02:01\n",
    "```\n",
    "\n",
    "   Inform your allele and press Return/Enter.\n",
    "\n",
    "   Next, CrossDome will request your peptide target:\n",
    "```\n",
    "Please complete the peptite in the query area:\n",
    "```\n",
    "Inform your peptide and press Return/Enter.\n",
    "\n",
    "\n",
    "- *Multiple entry*: chose this if you have a multiple peptides and/or HLA targets.\n",
    "```\n",
    "Please upload the table to your drive and give the path for a CSV table formatted as indicated in the instructions:\n",
    "```\n",
    "The table should have the following format:\n",
    "\n",
    "| Allele   | Peptide |\n",
    "| -------- | ------- |\n",
    "| HLA-B*07:01 | RPILTISTL |\n",
    "| HLA-B*07:02 | RPILTISTL |\n",
    "\n",
    "You can have as many peptide and HLA combinations as you want.\n",
    "Beware that CrossDome current is based on 9mer peptide dataset only.\n",
    "To properly run CrossDome on your targets a full file needs to be provided.\n",
    "This table should be saved on your drive or uploaded to the content area.\n",
    "\n",
    "If you have uploaded the table.csv to your Google Drive, your path should look as: ```/content/drive/MyDrive/path/to/table.csv```\n",
    "\n",
    "If you have uploaded the table.csv to the Colab content area, the path should look as: ```/content/table.csv```\n",
    "\n",
    "6. **Run CrossDome**: Run this cell to generate your results. The outputs will be:\n",
    "\n",
    "- Allele_Peptide.csv with the peptide rank list.\n",
    "- Allele_Peptide_expression_heatmap.pdf with the gene donor expression profile.\n",
    "- Allele_Peptide_tissue_specificity.pdf with the bar plot summarizing the tissue-specificity groups.\n",
    "- Allele_Peptide_cross_substitution.pdf with the heatmap combined with seqlogo displaying amino acid substitutions."
   ]
  },
  {
   "cell_type": "markdown",
   "id": "a97b94d4-e876-4c92-b9e8-3de94ab2b04e",
   "metadata": {},
   "source": [
    "### 2. **Downloading the necessary libraries**\n",
    "\n",
    "To use CrossDome in a Jupyter Notebook, you need to install the package from GitHub.  \n",
    "The package is available at: https://github.com/AntunesLab/crossdome  \n",
    "Run the R code cell below to install and load CrossDome."
   ]
  },
  {
   "cell_type": "code",
   "execution_count": 28,
   "id": "8a65cfc3-9167-4c86-9e78-77b818aeb590",
   "metadata": {},
   "outputs": [],
   "source": [
    "# Load devtools if it's not already installed\n",
    "if (!requireNamespace(\"devtools\", quietly = TRUE)) {\n",
    "  install.packages(\"devtools\") }\n",
    "\n",
    "# Install CrossDome if it is not already installed or needs an update\n",
    "if (!(\"crossdome\" %in% rownames(installed.packages()))) {\n",
    "  devtools::install_github(\"antuneslab/crossdome\", build_vignettes = TRUE) } \n",
    "\n",
    "library(crossdome)"
   ]
  },
  {
   "cell_type": "markdown",
   "id": "69a7ba7b-6a26-4811-b1bc-b99ff135e8bd",
   "metadata": {},
   "source": [
    "Beware that CrossDome only works for 9 mers.\n",
    "\n",
    "CrossDome on Google Colab can work with single or multiple entries.\n",
    "\n",
    "If you choose to run CrossDome using a table as input (multiple entries option), please use the following format\n",
    "\n",
    "| Allele   |    Peptide   |\n",
    "| -------- | ------- |\n",
    "| HLA-B*07:01  | RPILTISTL   |\n",
    "| HLA-B*07:02  | RPILTISTL    |"
   ]
  },
  {
   "cell_type": "markdown",
   "id": "cf0cc67b-1730-4c81-87cb-c7bdc0847df7",
   "metadata": {},
   "source": [
    "## 5. **Loading Data**\n",
    "Please select the type of entry data you would like to work on:\n",
    "\n",
    "For single entry, please complete the allele area with the format HLA-A*02:01 and the peptide in the query area\n",
    "\n",
    "For multiple entries, please provide the path to a **CSV table** formatted as indicated previously."
   ]
  },
  {
   "cell_type": "code",
   "execution_count": 76,
   "id": "8d0dc06c-ef3a-4f90-8e8f-f5364abcc5c8",
   "metadata": {},
   "outputs": [
    {
     "name": "stdin",
     "output_type": "stream",
     "text": [
      "Choose an option ('Single' or 'Multiple') entry:  Multiple\n",
      "Please provide the name to a CSV file formatted as indicated:\n",
      " Test.csv\n"
     ]
    }
   ],
   "source": [
    "option <- readline(prompt = \"Choose an option ('Single' or 'Multiple') entry: \")\n",
    "\n",
    "if (option == \"Single\") {\n",
    "  # Prompt user for allele and peptide input\n",
    "  allele <- readline(prompt = \"Please complete the allele with the format: HLA-A*02:01\\n\")\n",
    "  query <- readline(prompt = \"Please complete the peptide in the query area:\\n\")\n",
    "  table <- \"\"\n",
    "} else if (option == \"Multiple\"){\n",
    "  # Prompt user for CSV file path\n",
    "  table <- readline(prompt = \"Please provide the name to a CSV file formatted as indicated:\\n\")\n",
    "  allele <- \"\"\n",
    "  query <- \"\"\n",
    "}\n"
   ]
  },
  {
   "cell_type": "markdown",
   "id": "25819d94-395e-43f6-848d-c88aa7dc28c9",
   "metadata": {},
   "source": [
    "## 6. **Run CrossDome**"
   ]
  },
  {
   "cell_type": "code",
   "execution_count": 78,
   "id": "4baa0684-b8fe-405d-b192-0d1bfa7ebdbe",
   "metadata": {},
   "outputs": [
    {
     "name": "stderr",
     "output_type": "stream",
     "text": [
      "Warning message in read.table(file = file, header = header, sep = sep, quote = quote, :\n",
      "“incomplete final line found by readTableHeader on 'Test.csv'”\n"
     ]
    },
    {
     "name": "stdout",
     "output_type": "stream",
     "text": [
      "##------ Mon Jun 30 10:47:33 2025 ------##\n",
      "[1] \"Your results were saved as: HLA-A2301_EYLDDRNIF.csv\"\n"
     ]
    },
    {
     "name": "stderr",
     "output_type": "stream",
     "text": [
      "Warning message in .local(object, ...):\n",
      "“Found 21 peptides out of 25. Unmapped peptides: QYLDAYNMM,AYIDNYNKF,WFITQRNFF,AYFDNYNKF”\n"
     ]
    },
    {
     "name": "stdout",
     "output_type": "stream",
     "text": [
      "[1] \"Your heatmap presenting the gene donor expression profile was saved as: HLA-A2301_EYLDDRNIF_expression_heatmap.pdf\"\n",
      "[1] \"Your Bar plot summarizing the tissue-specificity groups was saved as: HLA-A2301_EYLDDRNIF_tissue_specificity.pdf\"\n"
     ]
    },
    {
     "name": "stderr",
     "output_type": "stream",
     "text": [
      "Warning message:\n",
      "“\u001b[1m\u001b[22mNo shared levels found between `names(values)` of the manual scale and the\n",
      "data's \u001b[32mcolour\u001b[39m values.”\n"
     ]
    },
    {
     "name": "stdout",
     "output_type": "stream",
     "text": [
      "[1] \"Your Heatmap combined with seqlogo displaying amino acid substitutions was saved as: HLA-A2301_EYLDDRNIFcross_substitution.pdf\"\n",
      "##------ Mon Jun 30 10:47:36 2025 ------##\n",
      "[1] \"Your results were saved as: HLA-B0702_RPILTISTL.csv\"\n"
     ]
    },
    {
     "name": "stderr",
     "output_type": "stream",
     "text": [
      "Warning message in .local(object, ...):\n",
      "“Found 191 peptides out of 213. Unmapped peptides: RPSAFASTL,RPAISFTTV,RPIVSTQLL,RPEGSVSTL,RPASGYSTL,RPVYVALTL,RPKGSFSTL,RPLLIEGTA,LPSLQYSTL,KPLFTLQSL,RPNITSTAL,HPVLVTATL,RPNLHSASL,RPFNNILNL,RPVMFVSRV,RPTITNNLF,KPKLKVATL,MPNASFSTL,RPADSITYL,SPTLNVSAL,RPMLARLTV,RPLLLLRLL”\n"
     ]
    },
    {
     "name": "stdout",
     "output_type": "stream",
     "text": [
      "[1] \"Your heatmap presenting the gene donor expression profile was saved as: HLA-B0702_RPILTISTL_expression_heatmap.pdf\"\n",
      "[1] \"Your Bar plot summarizing the tissue-specificity groups was saved as: HLA-B0702_RPILTISTL_tissue_specificity.pdf\"\n"
     ]
    },
    {
     "name": "stderr",
     "output_type": "stream",
     "text": [
      "Warning message:\n",
      "“\u001b[1m\u001b[22mNo shared levels found between `names(values)` of the manual scale and the\n",
      "data's \u001b[32mcolour\u001b[39m values.”\n"
     ]
    },
    {
     "name": "stdout",
     "output_type": "stream",
     "text": [
      "[1] \"Your Heatmap combined with seqlogo displaying amino acid substitutions was saved as: HLA-B0702_RPILTISTLcross_substitution.pdf\"\n",
      "##------ Mon Jun 30 10:47:40 2025 ------##\n",
      "[1] \"Your results were saved as: HLA-A0201_ALNNMFCQL.csv\"\n"
     ]
    },
    {
     "name": "stderr",
     "output_type": "stream",
     "text": [
      "Warning message in .local(object, ...):\n",
      "“Found 955 peptides out of 1071. Unmapped peptides: ALNTLVKQL,ALNHLVLSL,ALQNVMISI,ALHQCFTEL,SLFNMVATL,ALYDVVSKL,QLNKDIIQL,SLNSMYTRL,ALKNSQAEL,ALSGVFCGV,ALSALLTKL,ALNDALWAV,SLFNTVCTL,KLNKMTVEL,FLNQANCKI,ILNAMIAKI,KLSSFFQSV,ALNQFTKVL,SLNNTVATL,LLSNTLAEL,AIIDILQQL,ALQAIELQL,ALNIALVAV,VLNSLASLL,QLANAIFKL,DLNQAVNNL,VLNDQYAKV,VLNSVASLL,LLAKMLFYL,ALNIALIAV,ALYNTVATL,TTNNLLEQL,ALDAQAVEL,ALYDVVSTL,KINEMVDEL,AASPMLYQL,ALSLIIVSV,ILNSLFERL,SLNQTVHSL,AIIRMLQQL,SLHNAVAVL,SLYNAVVTL,ATAQMALQL,ILQKEISQL,LLNNYDVLV,ALFNTVATL,NLNQVIQSV,LLNNSLGSV,LLLQQQQQL,ALYNTAAAL,QLAFTYCQV,ALDHYDCLI,LVLNMVYSI,ALLFFIVAL,ALNDSVKTV,SLYNVVATL,ALTNAQFFV,SLAALFYSL,SLFNAVVTL,VLLTYFCFV,SLFNTFATL,IILNKIVQL,VISNSVAQA,ALDAYHASL,SLYNAIATL,DLNKVIQFL,LIDFYLCFL,SLSNTVATL,SLDSLVHLL,VLANFCSAL,ILSELLSNL,LMNNAFEWI,DLENNLVKL,SLFNLVATL,IVNSVLLFL,AIHNVVHAI,SLYNAVATL,KMNNFIEKV,SLYNTISVL,ILSNYVKTL,ALWNLHGQA,VLVVMACLV,LAKSVFNSL,SLCSCICTV,LLQEMVEYV,VLNIVLFIL,LMSSIVHQV,TINNLKMML,SLFNVVATL,AMNNGMEDL,ALFHEVAKL,ALIRILQQL,ALIKQVAYL,ALSSSLGNV,KLYEELCDL,SLFNIVATL,VLAALVCYI,YVSSIFLHL,LLASMVEEA,ALYYVHSLL,AMSKLLTEL,QLMEALMQL,ALQWVVVEV,SVCNSLSQI,SLFNTVAKL,VIHDYICWL,QLFSFFEEV,VLQQSTYQL,ILNDEQLNL,SLFNTVANL,DLYDMIHNV,ALNHHNLLV,FANNEFTLV,SLQNTVATL,LLSSNLSWL,QLVDFLCGL”\n"
     ]
    },
    {
     "name": "stdout",
     "output_type": "stream",
     "text": [
      "[1] \"Your heatmap presenting the gene donor expression profile was saved as: HLA-A0201_ALNNMFCQL_expression_heatmap.pdf\"\n",
      "[1] \"Your Bar plot summarizing the tissue-specificity groups was saved as: HLA-A0201_ALNNMFCQL_tissue_specificity.pdf\"\n"
     ]
    },
    {
     "name": "stderr",
     "output_type": "stream",
     "text": [
      "Warning message:\n",
      "“\u001b[1m\u001b[22mNo shared levels found between `names(values)` of the manual scale and the\n",
      "data's \u001b[32mcolour\u001b[39m values.”\n"
     ]
    },
    {
     "name": "stdout",
     "output_type": "stream",
     "text": [
      "[1] \"Your Heatmap combined with seqlogo displaying amino acid substitutions was saved as: HLA-A0201_ALNNMFCQLcross_substitution.pdf\"\n"
     ]
    }
   ],
   "source": [
    "if (option == \"Single\") {\n",
    "    # Create a unique identifier for files\n",
    "    file_identifier <- paste(allele, query, sep=\"_\")\n",
    "    file_identifier <- gsub(\"[:*]\", \"\", file_identifier) # Remove special characters that may not be valid in file names\n",
    "\n",
    "    # Set up the database with specific allele, withOUT off_target\n",
    "    database <- cross_background(allele = allele)\n",
    "    database\n",
    "\n",
    "    # Compose result using the query value\n",
    "    result <- cross_compose(query = query, background = database)\n",
    "\n",
    "    # View result - use print if running in a non-interactive environment\n",
    "    #print(result@result)\n",
    "\n",
    "    # Save each result to a separate CSV file\n",
    "    result_file_name <- paste0(file_identifier, \".csv\")\n",
    "    write.csv(result@result, file = result_file_name, row.names = FALSE)\n",
    "    print(paste0(\"Your results were saved as: \", file_identifier, \".csv\"))\n",
    "\n",
    "    # Optionally, collect all results in a list for further processing\n",
    "    #results_list[[file_identifier]] <- result@result\n",
    "\n",
    "    # Extracting the gene donor mRNA expression based on CR candidates\n",
    "    expression_matrix <- cross_expression_matrix(result, pvalue_threshold = 0.005)\n",
    "    #expression_matrix\n",
    "\n",
    "    # The heatmap presenting the gene donor expression profile\n",
    "    pdf(paste0(file_identifier, \"_expression_heatmap.pdf\"), width = 20, height = 12)\n",
    "    par(mar = c(3, 3, 2, 2), oma = c(0, 0, 0, 0), omi = c(0, 0, 0, 0))\n",
    "    print(cross_expression_plot(object = expression_matrix))\n",
    "    dev.off()\n",
    "    print(paste0(\"Your heatmap presenting the gene donor expression profile was saved as: \",\n",
    "                file_identifier, \"_expression_heatmap.pdf\"))\n",
    "    \n",
    "    # Summarizing tissue specificity across candidates\n",
    "    \n",
    "    # Bar plot summarizing the tissue-specificity groups\n",
    "    pdf(paste0(file_identifier, \"_tissue_specificity.pdf\"), width = 20, height = 12)\n",
    "    print(cross_tissues_plot(object = expression_matrix))\n",
    "    dev.off()\n",
    "    print(paste0(\"Your Bar plot summarizing the tissue-specificity groups was saved as: \",\n",
    "                file_identifier, \"_tissue_specificity.pdf\"))\n",
    "\n",
    "    # Displaying peptides composition across best-score candidates\n",
    "    \n",
    "    # Calculate position-specific substitution across cross-reactive candidates\n",
    "    cross_result <- cross_substitution_matrix(result)\n",
    "    #cross_result\n",
    "\n",
    "    # Heatmap combined with seqlogo displaying amino acid substitutions\n",
    "    pdf(paste0(file_identifier, \"_cross_substitution.pdf\"), width = 20, height = 12)\n",
    "    print(cross_substitution_plot(object = cross_result))\n",
    "    dev.off()\n",
    "    print(paste0(\"Your Heatmap combined with seqlogo displaying amino acid substitutions was saved as: \",\n",
    "                file_identifier, \"cross_substitution.pdf\"))\n",
    "\n",
    "} else if (option == \"Multiple\") {\n",
    "\n",
    "    # Load the data from CSV file\n",
    "    df <- read.csv(table)\n",
    "    #print(colnames(df))\n",
    "\n",
    "    # Using data from CSV file to set variables\n",
    "    for (i in 1:nrow(df)) {\n",
    "      allele_value <- df[i,1]\n",
    "      query_value <- df[i, 2]\n",
    "\n",
    "      # Create a unique identifier for files\n",
    "      file_identifier <- paste(allele_value, query_value, sep=\"_\")\n",
    "      file_identifier <- gsub(\"[:*]\", \"\", file_identifier) # Remove special characters that may not be valid in file names\n",
    "\n",
    "      # Set up the database with specific allele, with off_target\n",
    "      # database <- cross_background(off_targets = off_target_value, allele = allele_value)\n",
    "\n",
    "      # Set up the database with specific allele, withOUT off_target\n",
    "      database <- cross_background(allele = allele_value)\n",
    "      database\n",
    "\n",
    "      # Compose result using the query value\n",
    "      result <- cross_compose(query = query_value, background = database)\n",
    "      result\n",
    "\n",
    "      # View result - use print if running in a non-interactive environment\n",
    "      #print(result@result)\n",
    "\n",
    "      # Save each result to a separate CSV file\n",
    "      result_file_name <- paste0(file_identifier, \".csv\")\n",
    "      write.csv(result@result, file = result_file_name, row.names = FALSE)\n",
    "      print(paste0(\"Your results were saved as: \", file_identifier, \".csv\"))\n",
    "\n",
    "      # Optionally, collect all results in a list for further processing\n",
    "      #results_list[[file_identifier]] <- result@result\n",
    "\n",
    "      # Extracting the gene donor mRNA expression based on CR candidates\n",
    "      expression_matrix <- cross_expression_matrix(result, pvalue_threshold = 0.005)\n",
    "      expression_matrix\n",
    "\n",
    "      # The heatmap presenting the gene donor expression profile\n",
    "      pdf(paste0(file_identifier, \"_expression_heatmap.pdf\"))\n",
    "      print(cross_expression_plot(object = expression_matrix))\n",
    "      dev.off()\n",
    "      print(paste0(\"Your heatmap presenting the gene donor expression profile was saved as: \",\n",
    "                file_identifier, \"_expression_heatmap.pdf\"))\n",
    "\n",
    "      ## Summarizing tissue specificity across candidates\n",
    "\n",
    "      # Bar plot summarizing the tissue-specificity groups\n",
    "      pdf(paste0(file_identifier, \"_tissue_specificity.pdf\"))\n",
    "      print(cross_tissues_plot(object = expression_matrix))\n",
    "      dev.off()\n",
    "      print(paste0(\"Your Bar plot summarizing the tissue-specificity groups was saved as: \",\n",
    "                file_identifier, \"_tissue_specificity.pdf\"))\n",
    "\n",
    "      ## Displaying peptides composition across best-score candidates\n",
    "\n",
    "      # Calculate position-specific substitution across cross-reactive candidates\n",
    "      cross_result <- cross_substitution_matrix(result)\n",
    "      cross_result\n",
    "\n",
    "      # Heatmap combined with seqlogo displaying amino acid substitutions\n",
    "      pdf(paste0(file_identifier, \"_cross_substitution.pdf\"))\n",
    "      print(cross_substitution_plot(object = cross_result))\n",
    "      dev.off()\n",
    "      print(paste0(\"Your Heatmap combined with seqlogo displaying amino acid substitutions was saved as: \",\n",
    "                file_identifier, \"cross_substitution.pdf\"))\n",
    "    }\n",
    "} else {\n",
    "    print(\"Invalid option selected. Please choose 'Single entry' or 'Multiple entries'.\")\n",
    "}"
   ]
  },
  {
   "cell_type": "code",
   "execution_count": null,
   "id": "2f481d83-91d1-49fe-9401-950ea361cc7b",
   "metadata": {},
   "outputs": [],
   "source": []
  }
 ],
 "metadata": {
  "kernelspec": {
   "display_name": "R",
   "language": "R",
   "name": "ir"
  },
  "language_info": {
   "codemirror_mode": "r",
   "file_extension": ".r",
   "mimetype": "text/x-r-source",
   "name": "R",
   "pygments_lexer": "r",
   "version": "4.3.2"
  }
 },
 "nbformat": 4,
 "nbformat_minor": 5
}
